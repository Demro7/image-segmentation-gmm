{
 "cells": [
  {
   "cell_type": "markdown",
   "id": "673d9abf",
   "metadata": {},
   "source": [
    "# Image Segmentation using Gaussian Mixture Models (GMM)\n",
    "\n",
    "This notebook demonstrates image segmentation using Gaussian Mixture Models (GMM). The workflow includes loading an image, normalizing pixel values, initializing GMM parameters with K-Means, running the Expectation-Maximization (EM) algorithm, and visualizing the segmented output.\n",
    "\n",
    "## Workflow Overview\n",
    "1. **Import Libraries**: Load required Python libraries and utility functions.\n",
    "2. **GMM Class**: Define the GMM class with inference (E-step) and update (M-step) methods.\n",
    "3. **Image Loading & Preprocessing**: Load the image and normalize pixel values.\n",
    "4. **K-Means Initialization**: Use K-Means to initialize GMM parameters.\n",
    "5. **EM Algorithm**: Iteratively update GMM parameters until convergence.\n",
    "6. **Segmentation Visualization**: Display the segmented image using the trained GMM."
   ]
  },
  {
   "cell_type": "code",
   "execution_count": 1,
   "id": "15b35a94",
   "metadata": {},
   "outputs": [],
   "source": [
    "import numpy as np\n",
    "from utils.utils import COLORS, load_image\n",
    "from scipy.stats import multivariate_normal\n",
    "from sklearn.cluster import KMeans\n",
    "from matplotlib import pyplot as plt\n"
   ]
  },
  {
   "cell_type": "markdown",
   "id": "deaddf46",
   "metadata": {},
   "source": [
    "## 1. Import Required Libraries\n",
    "Import all necessary libraries for image processing, clustering, and visualization. Also, import utility functions and color definitions from the `utils` module."
   ]
  },
  {
   "cell_type": "code",
   "execution_count": 2,
   "id": "8fe62c52",
   "metadata": {},
   "outputs": [],
   "source": [
    "class GMM:\n",
    "    def __init__(self, ncomp, initial_mus, initial_covs, initial_priors):\n",
    "        self.ncomp = ncomp\n",
    "        self.mus = np.asarray(initial_mus)\n",
    "        self.covs = np.asarray(initial_covs)\n",
    "        self.priors = np.asarray(initial_priors)\n",
    "\n",
    "    def inference(self, datas): # E-step\n",
    "        unnormalized_probs = [] \n",
    "        for i in range(self.ncomp):\n",
    "            mu, cov, prior = self.mus[i, :], self.covs[i, :, :], self.priors[i]\n",
    "            unnormalized_prob = prior * multivariate_normal.pdf(datas, mean=mu, cov=cov)\n",
    "            unnormalized_probs.append(np.expand_dims(unnormalized_prob, -1))\n",
    "        preds = np.concatenate(unnormalized_probs, axis=1)\n",
    "        log_likelihood = np.sum(preds, axis=1)\n",
    "        log_likelihood = np.sum(np.log(log_likelihood))\n",
    "\n",
    "        preds = preds / np.sum(preds, axis=1, keepdims=True)\n",
    "        return np.asarray(preds), log_likelihood\n",
    "\n",
    "    def update(self, datas, beliefs): # M-step\n",
    "        new_mus, new_covs, new_priors = [], [], []\n",
    "        soft_counts = np.sum(beliefs, axis=0)\n",
    "        for i in range(self.ncomp):\n",
    "            new_mu = np.sum(np.expand_dims(beliefs[:, i], -1) * datas, axis=0)\n",
    "            new_mu /= soft_counts[i]\n",
    "            new_mus.append(new_mu)\n",
    "\n",
    "            data_shifted = np.subtract(datas, np.expand_dims(new_mu, 0))\n",
    "            new_cov = np.matmul(np.transpose(np.multiply(np.expand_dims(beliefs[:, i], -1), data_shifted)), data_shifted)\n",
    "            new_cov /= soft_counts[i]\n",
    "            new_covs.append(new_cov)\n",
    "\n",
    "            new_priors.append(soft_counts[i] / np.sum(soft_counts))\n",
    "\n",
    "        self.mus = np.asarray(new_mus)\n",
    "        self.covs = np.asarray(new_covs)\n",
    "        self.priors = np.asarray(new_priors)\n"
   ]
  },
  {
   "cell_type": "markdown",
   "id": "a27cb534",
   "metadata": {},
   "source": [
    "## 2. Gaussian Mixture Model (GMM) Class\n",
    "This section defines the `GMM` class, which implements the Expectation-Maximization (EM) algorithm for clustering image pixels. The class includes:\n",
    "- **Initialization**: Set the number of components, means, covariances, and priors.\n",
    "- **E-step (inference)**: Compute the probability (belief) of each pixel belonging to each component.\n",
    "- **M-step (update)**: Update the parameters based on the computed beliefs."
   ]
  },
  {
   "cell_type": "code",
   "execution_count": 3,
   "id": "84e01dcc",
   "metadata": {},
   "outputs": [],
   "source": [
    "# Load image\n",
    "image_name = input('Input the image name: ')\n",
    "image_path = f'images/{image_name}.jpg'\n",
    "image = load_image(image_path)\n",
    "image_height, image_width, image_channels = image.shape\n",
    "image_pixels = np.reshape(image, (-1, image_channels))\n",
    "\n",
    "# Normalization\n",
    "_mean = np.mean(image_pixels, axis=0, keepdims=True)\n",
    "_std = np.std(image_pixels, axis=0, keepdims=True)\n",
    "image_pixels = (image_pixels - _mean) / _std\n"
   ]
  },
  {
   "cell_type": "markdown",
   "id": "070dc65f",
   "metadata": {},
   "source": [
    "## 3. Load and Normalize Image\n",
    "Load the target image, extract its pixel data, and normalize the pixel values to have zero mean and unit variance. This preprocessing step helps improve clustering performance."
   ]
  },
  {
   "cell_type": "code",
   "execution_count": 4,
   "id": "bab7e4d9",
   "metadata": {},
   "outputs": [],
   "source": [
    "# Input number of classes\n",
    "ncomp = int(input('Input number of classes: '))\n",
    "\n",
    "# Apply K-Means for initialization\n",
    "kmeans = KMeans(n_clusters=ncomp)\n",
    "labels = kmeans.fit_predict(image_pixels)\n",
    "initial_mus = kmeans.cluster_centers_\n",
    "initial_priors, initial_covs = [], []\n",
    "\n",
    "for i in range(ncomp):\n",
    "    datas = np.array([image_pixels[j, :] for j in range(len(labels)) if labels[j] == i]).T\n",
    "    initial_covs.append(np.cov(datas))\n",
    "    initial_priors.append(datas.shape[1] / float(len(labels)))\n",
    "\n",
    "# Initialize GMM\n",
    "gmm = GMM(ncomp, initial_mus, initial_covs, initial_priors)\n"
   ]
  },
  {
   "cell_type": "markdown",
   "id": "26c05673",
   "metadata": {},
   "source": [
    "## 4. K-Means Initialization and GMM Setup\n",
    "Use K-Means clustering to initialize the means, covariances, and priors for the GMM. This provides a good starting point for the EM algorithm. Then, create a GMM instance with these initial parameters."
   ]
  },
  {
   "cell_type": "code",
   "execution_count": 5,
   "id": "8c7197f2",
   "metadata": {},
   "outputs": [
    {
     "name": "stdout",
     "output_type": "stream",
     "text": [
      "Iteration 1: Log Likelihood = -455441.53237431706\n",
      "Iteration 2: Log Likelihood = -347139.3755224135\n",
      "Iteration 3: Log Likelihood = -255886.96045903943\n",
      "Iteration 4: Log Likelihood = -195128.77992568118\n",
      "Iteration 5: Log Likelihood = -186904.7951116951\n",
      "Iteration 6: Log Likelihood = -184280.35882993723\n",
      "Iteration 7: Log Likelihood = -183060.3875049447\n",
      "Iteration 8: Log Likelihood = -182428.64229259914\n",
      "Iteration 9: Log Likelihood = -182087.90786411765\n",
      "Iteration 10: Log Likelihood = -181899.44794955867\n",
      "Iteration 11: Log Likelihood = -181793.2665974298\n",
      "Iteration 12: Log Likelihood = -181732.5717187041\n",
      "Iteration 13: Log Likelihood = -181697.47156036037\n",
      "Iteration 14: Log Likelihood = -181676.98039142173\n",
      "Iteration 15: Log Likelihood = -181664.9260285009\n",
      "Iteration 16: Log Likelihood = -181657.79101223452\n",
      "Iteration 17: Log Likelihood = -181653.54691148963\n",
      "Iteration 18: Log Likelihood = -181651.01247935428\n",
      "Iteration 19: Log Likelihood = -181649.49428664744\n",
      "Iteration 20: Log Likelihood = -181648.58261050316\n",
      "Iteration 21: Log Likelihood = -181648.03408725603\n",
      "Iteration 22: Log Likelihood = -181647.70355785356\n",
      "Iteration 23: Log Likelihood = -181647.5041495594\n",
      "Iteration 24: Log Likelihood = -181647.38373417433\n",
      "Iteration 25: Log Likelihood = -181647.31096658952\n",
      "Iteration 26: Log Likelihood = -181647.26696769413\n",
      "Iteration 27: Log Likelihood = -181647.24035192266\n",
      "Iteration 28: Log Likelihood = -181647.22424593818\n",
      "Iteration 29: Log Likelihood = -181647.21449709302\n",
      "Iteration 30: Log Likelihood = -181647.2085949348\n",
      "Iteration 31: Log Likelihood = -181647.2050210548\n",
      "Iteration 32: Log Likelihood = -181647.20285671807\n",
      "Iteration 33: Log Likelihood = -181647.20154586804\n",
      "Iteration 34: Log Likelihood = -181647.2007518783\n",
      "Iteration 35: Log Likelihood = -181647.20027092437\n",
      "Iteration 36: Log Likelihood = -181647.19997957634\n",
      "Iteration 37: Log Likelihood = -181647.19980307942\n",
      "Iteration 38: Log Likelihood = -181647.19969615596\n",
      "Iteration 39: Log Likelihood = -181647.19963137902\n",
      "Iteration 40: Log Likelihood = -181647.19959213486\n",
      "Iteration 41: Log Likelihood = -181647.199568359\n",
      "Iteration 42: Log Likelihood = -181647.1995539542\n",
      "Iteration 43: Log Likelihood = -181647.19954522708\n",
      "Iteration 44: Log Likelihood = -181647.19953993981\n",
      "Iteration 45: Log Likelihood = -181647.19953673639\n",
      "Iteration 46: Log Likelihood = -181647.1995347955\n",
      "Iteration 47: Log Likelihood = -181647.19953361974\n",
      "Iteration 48: Log Likelihood = -181647.19953290728\n",
      "Iteration 49: Log Likelihood = -181647.19953247608\n",
      "Iteration 50: Log Likelihood = -181647.19953221403\n",
      "Iteration 51: Log Likelihood = -181647.1995320556\n",
      "Iteration 52: Log Likelihood = -181647.1995319597\n",
      "Iteration 53: Log Likelihood = -181647.19953190183\n",
      "Iteration 54: Log Likelihood = -181647.19953186627\n",
      "Iteration 55: Log Likelihood = -181647.1995318449\n",
      "Iteration 56: Log Likelihood = -181647.19953183187\n",
      "Iteration 57: Log Likelihood = -181647.19953182415\n",
      "Iteration 58: Log Likelihood = -181647.19953181953\n",
      "Iteration 59: Log Likelihood = -181647.19953181653\n",
      "Iteration 60: Log Likelihood = -181647.19953181472\n",
      "Iteration 61: Log Likelihood = -181647.1995318138\n",
      "Iteration 62: Log Likelihood = -181647.19953181312\n",
      "Iteration 63: Log Likelihood = -181647.1995318129\n",
      "Iteration 64: Log Likelihood = -181647.19953181274\n",
      "Iteration 65: Log Likelihood = -181647.1995318123\n",
      "Iteration 66: Log Likelihood = -181647.19953181202\n",
      "Iteration 67: Log Likelihood = -181647.19953181213\n",
      "Iteration 68: Log Likelihood = -181647.1995318125\n",
      "Iteration 69: Log Likelihood = -181647.1995318122\n",
      "Iteration 70: Log Likelihood = -181647.1995318122\n"
     ]
    }
   ],
   "source": [
    "prev_log_likelihood = None\n",
    "for i in range(1000):\n",
    "    beliefs, log_likelihood = gmm.inference(image_pixels) # E-step\n",
    "    gmm.update(image_pixels, beliefs)   # M-step\n",
    "    print(f'Iteration {i+1}: Log Likelihood = {log_likelihood}')\n",
    "    if prev_log_likelihood is not None and abs(log_likelihood - prev_log_likelihood) < 1e-10:\n",
    "        break\n",
    "    prev_log_likelihood = log_likelihood\n"
   ]
  },
  {
   "cell_type": "markdown",
   "id": "fb3b7888",
   "metadata": {},
   "source": [
    "## 5. Run Expectation-Maximization (EM) Algorithm\n",
    "Iteratively perform the E-step and M-step to update the GMM parameters. The process continues until the log-likelihood converges, indicating that the model has stabilized."
   ]
  },
  {
   "cell_type": "code",
   "execution_count": 6,
   "id": "86f5ca07",
   "metadata": {},
   "outputs": [
    {
     "data": {
      "image/png": "[encoded data removed]",
      "text/plain": [
       "<Figure size 640x480 with 1 Axes>"
      ]
     },
     "metadata": {},
     "output_type": "display_data"
    }
   ],
   "source": [
    "beliefs, log_likelihood = gmm.inference(image_pixels)\n",
    "map_beliefs = np.reshape(beliefs, (image_height, image_width, ncomp))\n",
    "segmented_map = np.zeros((image_height, image_width, 3))\n",
    "\n",
    "for i in range(image_height):\n",
    "    for j in range(image_width):\n",
    "        hard_belief = np.argmax(map_beliefs[i, j, :])\n",
    "        segmented_map[i, j, :] = np.asarray(COLORS[hard_belief]) / 255.0\n",
    "\n",
    "plt.imshow(segmented_map)\n",
    "plt.show()\n"
   ]
  },
  {
   "cell_type": "markdown",
   "id": "39330898",
   "metadata": {},
   "source": [
    "## 6. Visualize Segmented Image\n",
    "After training the GMM, use the learned parameters to assign each pixel to a segment (class) and visualize the resulting segmented image. Each segment is colored according to a predefined color palette."
   ]
  }
 ],
 "metadata": {
  "kernelspec": {
   "display_name": "base",
   "language": "python",
   "name": "python3"
  },
  "language_info": {
   "codemirror_mode": {
    "name": "ipython",
    "version": 3
   },
   "file_extension": ".py",
   "mimetype": "text/x-python",
   "name": "python",
   "nbconvert_exporter": "python",
   "pygments_lexer": "ipython3",
   "version": "3.11.7"
  }
 },
 "nbformat": 4,
 "nbformat_minor": 5
}
